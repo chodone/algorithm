{
 "cells": [
  {
   "cell_type": "code",
   "execution_count": 2,
   "id": "5e37483d",
   "metadata": {},
   "outputs": [
    {
     "name": "stdout",
     "output_type": "stream",
     "text": [
      "16300\n"
     ]
    }
   ],
   "source": [
    "# practice1\n",
    "coke = 500\n",
    "soda = 700\n",
    "lemonade = 4500\n",
    "orangejuice = 2000\n",
    "chocomilk = 1200\n",
    "americano = 3600\n",
    "\n",
    "money = 30000\n",
    "change = money - (2*coke + 2*soda + lemonade + orangejuice + chocomilk + americano)\n",
    "\n",
    "print(change)\n",
    "\n",
    "\n"
   ]
  },
  {
   "cell_type": "code",
   "execution_count": null,
   "id": "5365d02d",
   "metadata": {},
   "outputs": [],
   "source": [
    "# practice2\n",
    "\n",
    "ports = list(range(1,16))"
   ]
  }
 ],
 "metadata": {
  "kernelspec": {
   "display_name": "Python 3 (ipykernel)",
   "language": "python",
   "name": "python3"
  },
  "language_info": {
   "codemirror_mode": {
    "name": "ipython",
    "version": 3
   },
   "file_extension": ".py",
   "mimetype": "text/x-python",
   "name": "python",
   "nbconvert_exporter": "python",
   "pygments_lexer": "ipython3",
   "version": "3.7.9"
  }
 },
 "nbformat": 4,
 "nbformat_minor": 5
}
